{
 "metadata": {
  "name": "",
  "signature": "sha256:482f312284882a25413657596cacb97057f8a82012f57ad3d26f3e6b4a75d49d"
 },
 "nbformat": 3,
 "nbformat_minor": 0,
 "worksheets": [
  {
   "cells": [
    {
     "cell_type": "code",
     "collapsed": false,
     "input": [
      "%pylab inline\n",
      "import requests\n",
      "import json\n",
      "import urllib2\n",
      "import pandas as pd\n",
      "import pandas.io.data\n",
      "import numpy as np\n",
      "import talib \n",
      "from talib import MA_Type\n",
      "# con.cursor().execute(\"DELETE FROM hist where Volume = 0\")\n",
      "url = 'http://192.168.100.70:3000/api/'\n",
      "geturl = url + 'ta/desc/' + '0001.HK'\n",
      "posturl = url + 'api/ta/json/' + '0001.HK'\n",
      "data = pd.read_csv(geturl, index_col='date', parse_dates=True)"
     ],
     "language": "python",
     "metadata": {},
     "outputs": [
      {
       "output_type": "stream",
       "stream": "stdout",
       "text": [
        "Populating the interactive namespace from numpy and matplotlib\n"
       ]
      }
     ],
     "prompt_number": 3
    },
    {
     "cell_type": "code",
     "collapsed": false,
     "input": [
      "data.shape"
     ],
     "language": "python",
     "metadata": {},
     "outputs": [
      {
       "metadata": {},
       "output_type": "pyout",
       "prompt_number": 5,
       "text": [
        "(406, 144)"
       ]
      }
     ],
     "prompt_number": 5
    },
    {
     "cell_type": "code",
     "collapsed": false,
     "input": [],
     "language": "python",
     "metadata": {},
     "outputs": []
    }
   ],
   "metadata": {}
  }
 ]
}